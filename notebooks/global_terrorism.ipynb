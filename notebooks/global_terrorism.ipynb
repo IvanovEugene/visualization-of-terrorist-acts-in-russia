{
 "cells": [
  {
   "cell_type": "code",
   "execution_count": 1,
   "metadata": {},
   "outputs": [],
   "source": [
    "%matplotlib inline\n",
    "import re\n",
    "import pandas\n",
    "from enum import Enum\n",
    "import matplotlib.pyplot as plt\n",
    "from folium import (CircleMarker, Map, Popup)\n",
    "from folium.plugins import MarkerCluster\n",
    "from pandas.core.series import Series\n",
    "from IPython.display import IFrame\n",
    "pandas.set_option('display.max_columns', 150)"
   ]
  },
  {
   "cell_type": "markdown",
   "metadata": {},
   "source": [
    "# Utility functions"
   ]
  },
  {
   "cell_type": "markdown",
   "metadata": {},
   "source": [
    "## Function for reading table with act of terrorism data"
   ]
  },
  {
   "cell_type": "code",
   "execution_count": 2,
   "metadata": {},
   "outputs": [],
   "source": [
    "def get_terrorism_table(filepath: str):\n",
    "    return pandas.read_csv(\n",
    "        filepath_or_buffer=filepath, delimiter=\"\\t\", encoding=\"utf-8\", header=0,\n",
    "        index_col='eventid', low_memory=False)"
   ]
  },
  {
   "cell_type": "markdown",
   "metadata": {},
   "source": [
    "## Functions for textes preprocessing"
   ]
  },
  {
   "cell_type": "code",
   "execution_count": 3,
   "metadata": {},
   "outputs": [],
   "source": [
    "class TimePatterns(Enum):\n",
    "    AT_PATTERN = re.compile(\n",
    "        r\"\\b(?:[Aa]t|[Aa]round|[Aa]pproximately)\\b\\s*(?P<time_digit>\\b[0-2]?[0-9][0-5][0-9]\\b)\",\n",
    "        flags=re.DOTALL | re.MULTILINE)\n",
    "    AM_PM_PATTERN = re.compile(\n",
    "        r'(?P<time_digit>\\b[0-2]?[0-9][0-5][0-9]\\b)\\s*[ap]m',\n",
    "        flags=re.DOTALL | re.MULTILINE)\n",
    "\n",
    "    @classmethod\n",
    "    def get(cls) -> tuple:\n",
    "        return tuple(pattern.value for pattern in cls)\n",
    "\n",
    "\n",
    "def fix_time_period(time_period: str) -> str:\n",
    "    if len(time_period) == 3:\n",
    "        return f\"{time_period[0]}:{time_period[1:]}\"\n",
    "    elif len(time_period) == 4:\n",
    "        return f\"{time_period[:2]}:{time_period[2:]}\"\n",
    "    else:\n",
    "        return time_period\n",
    "\n",
    "\n",
    "def fix_time_periods_in_string(string_to_fix: str) -> str:\n",
    "    spans = set()\n",
    "    for pattern in TimePatterns.get():\n",
    "        for match_iter in pattern.finditer(string_to_fix):\n",
    "            if match_iter:\n",
    "                spans.add(match_iter.span(\"time_digit\"))\n",
    "\n",
    "    if not spans:\n",
    "        return string_to_fix\n",
    "\n",
    "    previous_start, previous_end = 0, 0\n",
    "\n",
    "    spans = tuple(sorted(spans, key=lambda value: value[0]))\n",
    "    spans_len = len(spans)\n",
    "    fixed_string = \"\"\n",
    "    for span_idx in range(spans_len):\n",
    "        current_start, current_end = spans[span_idx]\n",
    "        if span_idx + 1 != spans_len:\n",
    "            next_start, next_end = spans[span_idx + 1]\n",
    "        else:\n",
    "            next_start, next_end = None, None\n",
    "\n",
    "        fixed_string += string_to_fix[previous_end:current_start]\n",
    "        fixed_string += fix_time_period(\n",
    "            string_to_fix[current_start:current_end])\n",
    "\n",
    "        previous_start, previous_end = current_start, current_end\n",
    "        if not next_start:\n",
    "            fixed_string += string_to_fix[current_end:]\n",
    "            return fixed_string"
   ]
  },
  {
   "cell_type": "markdown",
   "metadata": {},
   "source": [
    "## Functions for map creation"
   ]
  },
  {
   "cell_type": "code",
   "execution_count": 4,
   "metadata": {},
   "outputs": [],
   "source": [
    "def generate_popup_text(row: Series) -> str:\n",
    "    target_type = row[\"targtype1_txt\"] if not row[\"targtype1_txt\"] != row[\n",
    "        \"targtype1_txt\"] else \"Unknown\"\n",
    "    target = row[\"target1\"] if not row[\"target1\"] != row[\n",
    "        \"target1\"] else \"Unknown\"\n",
    "    attack_type = row[\"attacktype1_txt\"] if not row[\"attacktype1_txt\"] != row[\n",
    "        \"attacktype1_txt\"] else \"Unknown\"\n",
    "    weapon_type = row[\"weaptype1_txt\"] if not row[\"weaptype1_txt\"] != row[\n",
    "        \"weaptype1_txt\"] else \"Unknown\"\n",
    "    nkill = int(row[\"nkill\"]) if not row[\"nkill\"] != row[\"nkill\"] else \"Unknown\"\n",
    "    summary = row[\"summary\"] if not row[\"summary\"] != row[\n",
    "        \"summary\"] else \"Unknown\"\n",
    "    motive = row[\"motive\"] if not row[\"motive\"] != row[\"motive\"] else \"Unknown\"\n",
    "\n",
    "    return f\"\"\"\n",
    "    <b>Target type</b>: {target_type}\n",
    "    <br><b>Target</b>: {target}\n",
    "    <br><b>Attack type</b>: {attack_type}\n",
    "    <br><b>Weapon type</b>: {weapon_type}\n",
    "    <br><b>Number of kills</b>: {nkill}\n",
    "    <br><b>Motive</b>: {motive}\n",
    "    <br><b>Summary</b>: {summary}\n",
    "    \"\"\"\n",
    "\n",
    "\n",
    "def get_marker_by_row(row: Series) -> CircleMarker:\n",
    "    use_popup = True\n",
    "    marker_color = \"#FFA500\"\n",
    "    if row[\"summary\"] != row[\"summary\"] or not row[\"summary\"].strip():\n",
    "        use_popup = False\n",
    "        marker_color = \"#C0C0C0\"\n",
    "\n",
    "    popup = Popup(generate_popup_text(row),\n",
    "                         max_width=300) if use_popup else None\n",
    "    return CircleMarker(\n",
    "        radius=10.0, popup=popup,\n",
    "        location=[row[\"latitude\"], row[\"longitude\"]],\n",
    "        fill=True, fill_color=marker_color,\n",
    "        opacity=0.3, fill_opacity=0.5,\n",
    "        color=marker_color\n",
    "    )"
   ]
  },
  {
   "cell_type": "code",
   "execution_count": null,
   "metadata": {},
   "outputs": [],
   "source": [
    "terrorism_table = get_terrorism_table(filepath=\"../data/gtd.csv\")\n",
    "terrorism_table.head(5)"
   ]
  },
  {
   "cell_type": "markdown",
   "metadata": {},
   "source": [
    "## Top 30 by act of terrorism"
   ]
  },
  {
   "cell_type": "code",
   "execution_count": null,
   "metadata": {},
   "outputs": [],
   "source": [
    "country_groups = terrorism_table.groupby(\"country_txt\")[\"country_txt\"].count()\n",
    "top_30 = sorted(\n",
    "    dict(country_groups).items(), \n",
    "    key=lambda x: x[-1], reverse=True)[:30]\n",
    "countries = []\n",
    "terr_acts_counts = []\n",
    "for country, terr_acts_count in top_30:\n",
    "    countries.append(country)\n",
    "    terr_acts_counts.append(terr_acts_count)\n",
    "print(countries)"
   ]
  },
  {
   "cell_type": "markdown",
   "metadata": {},
   "source": [
    "## Plot"
   ]
  },
  {
   "cell_type": "code",
   "execution_count": null,
   "metadata": {},
   "outputs": [],
   "source": [
    "plt.bar(countries, terr_acts_counts, color=\"red\", align='center')\n",
    "plt.xticks(plt.xticks()[0], countries, rotation=90)\n",
    "plt.show()"
   ]
  },
  {
   "cell_type": "markdown",
   "metadata": {},
   "source": [
    "# Acts of terrorism in Russia"
   ]
  },
  {
   "cell_type": "code",
   "execution_count": null,
   "metadata": {},
   "outputs": [],
   "source": [
    "acts_in_russian = terrorism_table[(terrorism_table[\"country_txt\"] == \"Russia\")]\n",
    "acts_in_russian = acts_in_russian[\n",
    "    [\"targtype1_txt\", \"target1\", \"attacktype1_txt\", \"weaptype1_txt\", \"city\", \n",
    "     \"latitude\", \"longitude\", \"summary\", \"gname\", \"motive\", \"weapdetail\", \n",
    "     \"nkill\"]\n",
    "]\n",
    "acts_in_russian[\"summary\"] = acts_in_russian[\"summary\"].apply(\n",
    "    lambda value: fix_time_periods_in_string(value.replace(\"\\xa0\", \" \").strip())\n",
    "    if isinstance(value, str) else value\n",
    ")"
   ]
  },
  {
   "cell_type": "markdown",
   "metadata": {},
   "source": [
    "## Creating map"
   ]
  },
  {
   "cell_type": "code",
   "execution_count": null,
   "metadata": {},
   "outputs": [],
   "source": [
    "terror_acts_map = Map(location=[66.231457, 97.515678], zoom_start=3.1)\n",
    "marker_cluster = MarkerCluster().add_to(terror_acts_map)\n",
    "\n",
    "markers_count = 0\n",
    "\n",
    "for row_idx in range(len(acts_in_russian)):\n",
    "    row = acts_in_russian.iloc[row_idx]\n",
    "    if not (row[\"latitude\"] == row[\"latitude\"] and row[\"longitude\"] == row[\"longitude\"]):\n",
    "        continue\n",
    "    \n",
    "    get_marker_by_row(row).add_to(marker_cluster)\n",
    "    markers_count += 1\n",
    "    \n",
    "print(markers_count)"
   ]
  },
  {
   "cell_type": "markdown",
   "metadata": {},
   "source": [
    "## Saving map"
   ]
  },
  {
   "cell_type": "code",
   "execution_count": null,
   "metadata": {},
   "outputs": [],
   "source": [
    "terror_acts_map.save(\"../html/terror_acts_map.html\")"
   ]
  },
  {
   "cell_type": "markdown",
   "metadata": {},
   "source": [
    "## Loading map to iframe"
   ]
  },
  {
   "cell_type": "code",
   "execution_count": null,
   "metadata": {},
   "outputs": [],
   "source": [
    "IFrame(src=\"../html/terror_acts_map.html\", width=1000, height=800)"
   ]
  },
  {
   "cell_type": "code",
   "execution_count": null,
   "metadata": {},
   "outputs": [],
   "source": []
  }
 ],
 "metadata": {
  "kernelspec": {
   "display_name": "Python 3",
   "language": "python",
   "name": "python3"
  },
  "language_info": {
   "codemirror_mode": {
    "name": "ipython",
    "version": 3
   },
   "file_extension": ".py",
   "mimetype": "text/x-python",
   "name": "python",
   "nbconvert_exporter": "python",
   "pygments_lexer": "ipython3",
   "version": "3.7.3"
  }
 },
 "nbformat": 4,
 "nbformat_minor": 2
}
